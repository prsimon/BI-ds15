{
 "cells": [
  {
   "cell_type": "markdown",
   "metadata": {
    "id": "cj6mksUH0z4T"
   },
   "source": [
    "# Exercises for part I - Try it at home"
   ]
  },
  {
   "cell_type": "markdown",
   "metadata": {
    "id": "HnE0F6X80z4t"
   },
   "source": [
    "## List\n",
    " \n",
    "1. Create a list of numbers from 1 to 10"
   ]
  },
  {
   "cell_type": "code",
   "execution_count": 138,
   "metadata": {
    "id": "uxGhkTi20z40"
   },
   "outputs": [],
   "source": [
    "myList = list(range(1,11))"
   ]
  },
  {
   "cell_type": "markdown",
   "metadata": {
    "id": "hmiGxvID0z42"
   },
   "source": [
    "2. Append to the list the number 20"
   ]
  },
  {
   "cell_type": "code",
   "execution_count": 139,
   "metadata": {
    "id": "dcrqk7su0z43"
   },
   "outputs": [],
   "source": [
    "myList.append(20)"
   ]
  },
  {
   "cell_type": "markdown",
   "metadata": {
    "id": "hK6DBmTq0z45"
   },
   "source": [
    "3. Insert two zeros after the fourth place of the list"
   ]
  },
  {
   "cell_type": "code",
   "execution_count": 140,
   "metadata": {
    "id": "1nH9chPK0z47"
   },
   "outputs": [],
   "source": [
    "myList[4:4] = [0,0]"
   ]
  },
  {
   "cell_type": "markdown",
   "metadata": {
    "id": "mD6Y2rEr0z5A"
   },
   "source": [
    "4. Sort the list in reverse order"
   ]
  },
  {
   "cell_type": "code",
   "execution_count": 141,
   "metadata": {
    "id": "bXMkpAQ50z5R"
   },
   "outputs": [],
   "source": [
    "myList.sort(reverse = True)"
   ]
  },
  {
   "cell_type": "markdown",
   "metadata": {
    "id": "AyM9QmQd0z5W"
   },
   "source": [
    "5. Remove the last two items from the list"
   ]
  },
  {
   "cell_type": "code",
   "execution_count": 142,
   "metadata": {
    "id": "KAB2xQeR0z5a"
   },
   "outputs": [],
   "source": [
    "del myList[(len(myList)-2):(len(myList))]"
   ]
  },
  {
   "cell_type": "markdown",
   "metadata": {
    "id": "zBGlL7U40z5c"
   },
   "source": [
    "6. Invert the order of the list"
   ]
  },
  {
   "cell_type": "code",
   "execution_count": 143,
   "metadata": {
    "id": "Hpjdz7Lp0z5e"
   },
   "outputs": [],
   "source": [
    "myList.reverse()"
   ]
  },
  {
   "cell_type": "markdown",
   "metadata": {
    "id": "i7KjJ2ZM0z5j"
   },
   "source": [
    "7. How many items has the list?"
   ]
  },
  {
   "cell_type": "code",
   "execution_count": 144,
   "metadata": {
    "id": "N_vRfST90z5m"
   },
   "outputs": [
    {
     "name": "stdout",
     "output_type": "stream",
     "text": [
      "11\n"
     ]
    }
   ],
   "source": [
    "print(len(myList))"
   ]
  },
  {
   "cell_type": "markdown",
   "metadata": {
    "id": "PAMOydIX0z5p"
   },
   "source": [
    "8. Give the minimum, maximum and the sum of all the items in the list"
   ]
  },
  {
   "cell_type": "code",
   "execution_count": 145,
   "metadata": {
    "id": "4ML2dM1X0z5t"
   },
   "outputs": [
    {
     "name": "stdout",
     "output_type": "stream",
     "text": [
      "1 20 75\n"
     ]
    }
   ],
   "source": [
    "print (min(myList),max(myList),sum(myList))"
   ]
  },
  {
   "cell_type": "markdown",
   "metadata": {
    "id": "WrK51x8f0z5u"
   },
   "source": [
    "9. What will happen if you multiply the list by 2?"
   ]
  },
  {
   "cell_type": "code",
   "execution_count": 146,
   "metadata": {
    "id": "nt9O4ERU0z56"
   },
   "outputs": [
    {
     "name": "stdout",
     "output_type": "stream",
     "text": [
      "[1, 2, 3, 4, 5, 6, 7, 8, 9, 10, 20, 1, 2, 3, 4, 5, 6, 7, 8, 9, 10, 20]\n"
     ]
    }
   ],
   "source": [
    "print(myList*2)"
   ]
  },
  {
   "cell_type": "markdown",
   "metadata": {
    "id": "j99REv0K0z57"
   },
   "source": [
    "10. Can you divide the list by 3?"
   ]
  },
  {
   "cell_type": "code",
   "execution_count": 147,
   "metadata": {
    "id": "BDl6Twzp0z59"
   },
   "outputs": [
    {
     "name": "stdout",
     "output_type": "stream",
     "text": [
      "No\n"
     ]
    }
   ],
   "source": [
    "print('No')"
   ]
  },
  {
   "cell_type": "markdown",
   "metadata": {
    "id": "oEAZsH1Q0z6B"
   },
   "source": [
    "# Tupples\n",
    " \n",
    "1. Create a tupple with three characters and four numbers"
   ]
  },
  {
   "cell_type": "code",
   "execution_count": 148,
   "metadata": {
    "id": "w3pGhpgT0z6C"
   },
   "outputs": [],
   "source": [
    "myTuple = ('a','b','c', 1, 2, 3, 4)"
   ]
  },
  {
   "cell_type": "markdown",
   "metadata": {
    "id": "x9ZpFFtR0z6D"
   },
   "source": [
    "2. Append two booleans (false, true) to the tupple"
   ]
  },
  {
   "cell_type": "code",
   "execution_count": 149,
   "metadata": {
    "id": "7rVJJMFS0z6E"
   },
   "outputs": [],
   "source": [
    "x = list(myTuple)\n",
    "x[len(x):len(x)]= [True, False]\n",
    "myTuple = tuple(x)"
   ]
  },
  {
   "cell_type": "markdown",
   "metadata": {
    "id": "4c5md2Ts0z6F"
   },
   "source": [
    "3. Retrieve the third to sixth items from the tupple"
   ]
  },
  {
   "cell_type": "code",
   "execution_count": 150,
   "metadata": {
    "id": "icTSn6T40z6G"
   },
   "outputs": [
    {
     "name": "stdout",
     "output_type": "stream",
     "text": [
      "('c', 1, 2, 3)\n"
     ]
    }
   ],
   "source": [
    "print(myTuple[2:6])"
   ]
  },
  {
   "cell_type": "markdown",
   "metadata": {
    "id": "dU3ONa460z6I"
   },
   "source": [
    "4. Divide the tupple by data type and create a list for each, then create a muttable tupple using these lists "
   ]
  },
  {
   "cell_type": "code",
   "execution_count": 151,
   "metadata": {
    "id": "OVnT3gFt0z6Q"
   },
   "outputs": [
    {
     "data": {
      "text/plain": [
       "(['a', 'b', 'c'], [1, 2, 3, 4], [True, False])"
      ]
     },
     "execution_count": 151,
     "metadata": {},
     "output_type": "execute_result"
    }
   ],
   "source": [
    "a = []\n",
    "b = []\n",
    "c = []\n",
    "for i in myTuple:\n",
    "    if type(i) == str:\n",
    "        a.append(i)\n",
    "    if type(i) == int:\n",
    "        b.append(i)\n",
    "    if type(i) == bool:\n",
    "        c.append(i)\n",
    "myTuple = (a, b, c)\n",
    "myTuple"
   ]
  },
  {
   "cell_type": "markdown",
   "metadata": {
    "id": "NzSnIBWn0z6W"
   },
   "source": [
    "# Sets\n",
    " \n",
    "1. Create a set using the following paragraph:\n",
    " \n",
    "<quote>\n",
    "\"Shallow copy is a bit-wise copy of an object. A new object is created that has an exact copy of the values in the original object\"\n",
    "<quote>\n",
    " \n",
    "Note: Each part of the set must be a word, not a character!"
   ]
  },
  {
   "cell_type": "code",
   "execution_count": 152,
   "metadata": {
    "id": "QG_SIvYA0z6i"
   },
   "outputs": [
    {
     "data": {
      "text/plain": [
       "{'A',\n",
       " 'Shallow',\n",
       " 'a',\n",
       " 'an',\n",
       " 'bit-wise',\n",
       " 'copy',\n",
       " 'created',\n",
       " 'exact',\n",
       " 'has',\n",
       " 'in',\n",
       " 'is',\n",
       " 'new',\n",
       " 'object',\n",
       " 'object.',\n",
       " 'of',\n",
       " 'original',\n",
       " 'that',\n",
       " 'the',\n",
       " 'values'}"
      ]
     },
     "execution_count": 152,
     "metadata": {},
     "output_type": "execute_result"
    }
   ],
   "source": [
    "mytext = \"Shallow copy is a bit-wise copy of an object. A new object is created that has an exact copy of the values in the original object\"\n",
    "mySet = set(mytext.split(\" \"))\n",
    "mySet"
   ]
  },
  {
   "cell_type": "markdown",
   "metadata": {
    "id": "e2IcYLgC0z6i"
   },
   "source": [
    "2. Do you see something wierd in this set? What? How can you prevent that?"
   ]
  },
  {
   "cell_type": "code",
   "execution_count": 153,
   "metadata": {
    "id": "7El5QN_l0z6j"
   },
   "outputs": [
    {
     "name": "stdout",
     "output_type": "stream",
     "text": [
      "I DONT KNOW\n"
     ]
    }
   ],
   "source": [
    "print (\"I DONT KNOW\")"
   ]
  },
  {
   "cell_type": "markdown",
   "metadata": {
    "id": "KVn-r_9Z0z6j"
   },
   "source": [
    "# Dictionary\n",
    " \n",
    "1. Generate a dictionary from the following table:\n",
    "\n",
    "<table>\n",
    "    <tr> <th> EmployeeID </th> <th> Name </th> <th> Position </th> <th> Phone </th> </tr>\n",
    "    <tr> <td> 1020 </td> <td> Harry Smith </td> <td> Sales Manager </td> <td> 030-223.65.44 </td> </tr>\n",
    "    <tr> <td> 2201 </td><td> Margaret Holsum </td> <td> Sales Representative </td> <td> 030-223.64.12 </td> </tr>\n",
    "    <tr> <td> 3320 </td><td> Lasly Howard </td> <td> Human Resources </td> <td> 030-223.83.33 </td> </tr>\n",
    "    <tr> <td> 8111 </td><td> Larry Johnson </td> <td> Project Manager </td> <td> 030-224.22.00 </td> </tr>\n",
    "    <tr> <td> 2733 </td><td> Hellen Young </td> <td> Customer Service </td> <td> 030-223.03.20 </td> </tr>\n",
    "</table>\n"
   ]
  },
  {
   "cell_type": "code",
   "execution_count": 154,
   "metadata": {
    "id": "AIe-j-oQ0z6l"
   },
   "outputs": [],
   "source": [
    "myDict = {1020: {'Name':'Harry Smith', 'Position':'Sales Manager','Phone':'030-223.65.44'},\n",
    "         2201: { 'Name':'Margaret Holsum', 'Position':'Sales Representative','Phone':'030-223.64.12'},\n",
    "         3320: {'Name':'Lasly Howard', 'Position':'Human Resources','Phone':'030-223.83.33'},\n",
    "         8111: {'Name':'Larry Johnson', 'Position':'Project Manager','Phone':'030-224.22.00'},\n",
    "         2733: {'Name':'Hellen Young', 'Position':'Customer Service','Phone':'030-223.03.20'}}"
   ]
  },
  {
   "cell_type": "markdown",
   "metadata": {
    "id": "YOF2EJUc0z6m"
   },
   "source": [
    "1. Get all the keys of the dictionary"
   ]
  },
  {
   "cell_type": "code",
   "execution_count": 155,
   "metadata": {
    "id": "sN-5Vhdq0z6n"
   },
   "outputs": [
    {
     "data": {
      "text/plain": [
       "dict_keys([1020, 2201, 3320, 8111, 2733])"
      ]
     },
     "execution_count": 155,
     "metadata": {},
     "output_type": "execute_result"
    }
   ],
   "source": [
    "myDict.keys()"
   ]
  },
  {
   "cell_type": "markdown",
   "metadata": {
    "id": "SBqWfiLj0z6o"
   },
   "source": [
    "2. Get all the values of the dictionary"
   ]
  },
  {
   "cell_type": "code",
   "execution_count": 156,
   "metadata": {
    "id": "Vzk4DN2w0z6o"
   },
   "outputs": [
    {
     "data": {
      "text/plain": [
       "dict_values([{'Name': 'Harry Smith', 'Position': 'Sales Manager', 'Phone': '030-223.65.44'}, {'Name': 'Margaret Holsum', 'Position': 'Sales Representative', 'Phone': '030-223.64.12'}, {'Name': 'Lasly Howard', 'Position': 'Human Resources', 'Phone': '030-223.83.33'}, {'Name': 'Larry Johnson', 'Position': 'Project Manager', 'Phone': '030-224.22.00'}, {'Name': 'Hellen Young', 'Position': 'Customer Service', 'Phone': '030-223.03.20'}])"
      ]
     },
     "execution_count": 156,
     "metadata": {},
     "output_type": "execute_result"
    }
   ],
   "source": [
    "myDict.values()"
   ]
  },
  {
   "cell_type": "markdown",
   "metadata": {
    "id": "bgc-DcqB0z6o"
   },
   "source": [
    "3. Show the third row of the table by calling the dictionary using the respective EmployeeID"
   ]
  },
  {
   "cell_type": "code",
   "execution_count": 157,
   "metadata": {
    "id": "skCcW65X0z6p"
   },
   "outputs": [
    {
     "data": {
      "text/plain": [
       "{'Name': 'Lasly Howard',\n",
       " 'Position': 'Human Resources',\n",
       " 'Phone': '030-223.83.33'}"
      ]
     },
     "execution_count": 157,
     "metadata": {},
     "output_type": "execute_result"
    }
   ],
   "source": [
    "myDict.get(3320)"
   ]
  },
  {
   "cell_type": "markdown",
   "metadata": {
    "id": "GPF7g7HL0z6p"
   },
   "source": [
    "# Loop programming in python\n",
    " \n",
    "1. Write a script that shows all the primary numbers from 1 to 100. Use for.. loop and if..else"
   ]
  },
  {
   "cell_type": "code",
   "execution_count": 158,
   "metadata": {
    "id": "y0fMrAJn0z6q"
   },
   "outputs": [
    {
     "name": "stdout",
     "output_type": "stream",
     "text": [
      "[3, 5, 7, 9, 11, 13, 15, 17, 19, 21, 23, 25, 27, 29, 31, 33, 35, 37, 39, 41, 43, 45, 47, 49, 51, 53, 55, 57, 59, 61, 63, 65, 67, 69, 71, 73, 75, 77, 79, 81, 83, 85, 87, 89, 91, 93, 95, 97, 99]\n"
     ]
    }
   ],
   "source": [
    "def prime_num(x):\n",
    "    for i in range(2,x):\n",
    "        if x%i != 0:\n",
    "            return True\n",
    "        else:\n",
    "            return False\n",
    "prime_list = []\n",
    "for j in range(1,101):\n",
    "    if prime_num(j):\n",
    "        prime_list.append(j)\n",
    "print(prime_list)"
   ]
  },
  {
   "cell_type": "markdown",
   "metadata": {
    "id": "uTAWNgGy0z6q"
   },
   "source": [
    "2. Write a different solution to the problem in the last question, but using while.. in place of for.."
   ]
  },
  {
   "cell_type": "code",
   "execution_count": 159,
   "metadata": {
    "id": "0osqaEE20z6r"
   },
   "outputs": [
    {
     "name": "stdout",
     "output_type": "stream",
     "text": [
      "[3, 5, 7, 9, 11, 13, 15, 17, 19, 21, 23, 25, 27, 29, 31, 33, 35, 37, 39, 41, 43, 45, 47, 49, 51, 53, 55, 57, 59, 61, 63, 65, 67, 69, 71, 73, 75, 77, 79, 81, 83, 85, 87, 89, 91, 93, 95, 97, 99]\n"
     ]
    }
   ],
   "source": [
    "y = 1\n",
    "prime_list = []\n",
    "while y < 100:\n",
    "    if prime_num(y):\n",
    "        prime_list.append(y)\n",
    "    y=y+1\n",
    "print(prime_list)\n",
    "\n",
    "    \n",
    "    "
   ]
  }
 ],
 "metadata": {
  "colab": {
   "name": "Home exercise - Part 1.ipynb",
   "provenance": []
  },
  "kernelspec": {
   "display_name": "Python 3 (ipykernel)",
   "language": "python",
   "name": "python3"
  },
  "language_info": {
   "codemirror_mode": {
    "name": "ipython",
    "version": 3
   },
   "file_extension": ".py",
   "mimetype": "text/x-python",
   "name": "python",
   "nbconvert_exporter": "python",
   "pygments_lexer": "ipython3",
   "version": "3.10.9"
  }
 },
 "nbformat": 4,
 "nbformat_minor": 1
}
